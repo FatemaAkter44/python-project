{
 "cells": [
  {
   "cell_type": "code",
   "execution_count": 1,
   "metadata": {},
   "outputs": [
    {
     "name": "stdout",
     "output_type": "stream",
     "text": [
      "Monday:21\n",
      "Tuesday:6\n",
      "Wednesday:8\n",
      "Thursday:18\n",
      "Friday:16\n",
      "Saturday:4\n",
      "Sunday:10\n",
      "Monday:8\n",
      "Tuesday:13\n",
      "Wednesday:25\n",
      "Thursday:24\n",
      "Friday:11\n",
      "Saturday:23\n",
      "Sunday:4\n",
      "Monday:12\n",
      "Tuesday:17\n",
      "Wednesday:11\n",
      "Thursday:20\n",
      "Friday:3\n",
      "Saturday:11\n",
      "Sunday:0\n",
      "Monday:14\n",
      "Tuesday:18\n",
      "Wednesday:21\n",
      "Thursday:19\n",
      "Friday:19\n",
      "\n"
     ]
    }
   ],
   "source": [
    "import os\n",
    "sCalls= open (\"Calls.txt\", \"r\")\n",
    "print(sCalls.read())\n",
    "sCalls.close()"
   ]
  },
  {
   "cell_type": "code",
   "execution_count": null,
   "metadata": {},
   "outputs": [],
   "source": [
    "fob=open('Calls.txt')  \n",
    "lis=[]\n",
    "for line in fob:\n",
    "    words=line.split(':')\n",
    "    #print(words)\n",
    "    for word in words:\n",
    "        lis.append(word)\n",
    "    lis.sort()\n",
    "    print(lis)\n",
    "    lis=[]\n",
    "fob.close()  "
   ]
  },
  {
   "cell_type": "code",
   "execution_count": null,
   "metadata": {},
   "outputs": [],
   "source": [
    "from itertools import chain \n",
    "fobCalls=open('Calls.txt')  \n",
    "lis=[]\n",
    "for line in fobCalls:\n",
    "    calls=line.rstrip('\\n')\n",
    "    calls3=calls.split(':')\n",
    "    #calls2=calls.split(':')\n",
    "    lis.append(calls3)\n",
    "\n",
    "   # print(calls2)\n",
    "    #print(calls)\n",
    "print(lis)\n",
    "print ( [list( map(int,i) ) for i in l] )\n",
    "fobCalls.close() "
   ]
  },
  {
   "cell_type": "code",
   "execution_count": null,
   "metadata": {},
   "outputs": [],
   "source": [
    "# for key,value in dict1.items():\n",
    "#     strDay=input(\"Enter the day: \")\n",
    "#     print (dict1[strDay])"
   ]
  },
  {
   "cell_type": "code",
   "execution_count": null,
   "metadata": {},
   "outputs": [],
   "source": [
    "# Write a program that:\n",
    "\n",
    "# 1. Reads the call data (from the practice problem) and closes the file.\n",
    "# Makes a dictionary, with the keys being days of the week, and the data being call total for each day.\n",
    "\n",
    "# 2. Asks the user which day they are interested in. Print the total and the average for that day. \n",
    "# If they ask for a day that is not listed, give them an error messsage.\n",
    "\n",
    "f=open('Calls.txt','r')\n",
    "\n",
    "dict1={}\n",
    "\n",
    "for i in f:\n",
    "    list1=i.split(':')\n",
    "    if list1[0] in dict1:\n",
    "        dict1[list1[0]]+=int(list1[1])\n",
    "        \n",
    "    else:\n",
    "        dict1[list1[0]]=int(list1[1])\n",
    "        \n",
    "print(dict1)\n",
    "\n",
    "strDay=input(\"Enter the day: \")\n",
    "print (dict1[strDay])    \n",
    "    \n"
   ]
  },
  {
   "cell_type": "code",
   "execution_count": null,
   "metadata": {},
   "outputs": [],
   "source": [
    "string = [ [ \"this is a sample\",\n",
    "         \"this is another sample\"],\n",
    "       [ \"The third sample\",\n",
    "         \"the fourth one\"] ]\n",
    "\n",
    "print([_ for i in range(len(string)) for _ in string[i]])"
   ]
  },
  {
   "cell_type": "code",
   "execution_count": null,
   "metadata": {},
   "outputs": [],
   "source": []
  },
  {
   "cell_type": "code",
   "execution_count": null,
   "metadata": {},
   "outputs": [],
   "source": [
    "fobCalls=open('Calls.txt')  \n",
    "lis=[]\n",
    "dict1={}\n",
    "for line in fobCalls:\n",
    "    calls=line.rstrip('\\n')\n",
    "    calls3=calls.split(':')\n",
    "    lis.append(calls3)\n",
    "        \n",
    "print(dict1)\n",
    "x = ([_ for i in range(len(lis)) for _ in lis[i]])\n",
    "#print(x)\n",
    "\n",
    "\n",
    "cMonday = x.count('Monday')\n",
    "cTuesday=x.count('Tuesday')\n",
    "cWednesday=x.count('Wednesday')\n",
    "cThursday=x.count('Thursday')\n",
    "cFriday=x.count('Friday')\n",
    "cSaturday=x.count('Saturday')\n",
    "cSunday=x.count('Sunday')\n",
    "print(cMonday, cTuesday,cWednesday,cThursday,cFriday,cSaturday,cSunday)\n",
    "\n",
    "fobCalls.close() "
   ]
  },
  {
   "cell_type": "code",
   "execution_count": 2,
   "metadata": {},
   "outputs": [
    {
     "name": "stdout",
     "output_type": "stream",
     "text": [
      "Enter the day: Friday\n",
      "Total calls:  49\n",
      "Average calls for Friday is:  12.25\n"
     ]
    }
   ],
   "source": [
    "import os\n",
    "fobCalls=open('Calls.txt')  \n",
    "lis=[]\n",
    "dict1={}\n",
    "for line in fobCalls:\n",
    "    calls=line.rstrip('\\n')\n",
    "    calls3=calls.split(':')\n",
    "    lis.append(calls3)\n",
    "    #print(calls3)\n",
    "    if calls3[0] in dict1:\n",
    "        dict1[calls3[0]]+=int(calls3[1])\n",
    "        \n",
    "    else:\n",
    "        dict1[calls3[0]]=int(calls3[1])\n",
    "#print(dict1)\n",
    "x = ([_ for i in range(len(lis)) for _ in lis[i]])\n",
    "#print(x)\n",
    "\n",
    "cMonday = x.count('Monday')\n",
    "cTuesday=x.count('Tuesday')\n",
    "cWednesday=x.count('Wednesday')\n",
    "cThursday=x.count('Thursday')\n",
    "cFriday=x.count('Friday')\n",
    "cSaturday=x.count('Saturday')\n",
    "cSunday=x.count('Sunday')\n",
    "#print(cMonday, cTuesday,cWednesday,cThursday,cFriday,cSaturday,cSunday)\n",
    "\n",
    "strDay=input(\"Enter the day: \")\n",
    "if strDay==\"Monday\":\n",
    "    print (\"Total calls: \",dict1[strDay]) \n",
    "    print(\"Average calls for Monday is: \", (dict1[strDay])/cMonday)\n",
    "elif strDay==\"Tuesday\":\n",
    "    print (\"Total calls: \",dict1[strDay]) \n",
    "    print(\"Average calls for Tuesday is: \", (dict1[strDay])/cTuesday)\n",
    "elif strDay==\"Wednesday\":\n",
    "    print (\"Total calls: \",dict1[strDay]) \n",
    "    print(\"Average calls for Wednesday is: \", (dict1[strDay])/cWednesday) \n",
    "elif strDay==\"Thursday\":\n",
    "    print (\"Total calls: \",dict1[strDay]) \n",
    "    print(\"Average calls for Thursday is: \", (dict1[strDay])/cThursday)\n",
    "elif strDay==\"Friday\":\n",
    "    print (\"Total calls: \",dict1[strDay]) \n",
    "    print(\"Average calls for Friday is: \", (dict1[strDay])/cFriday) \n",
    "elif strDay==\"Saturday\":\n",
    "    print (\"Total calls: \",dict1[strDay]) \n",
    "    print(\"Average calls for Saturday is: \", (dict1[strDay])/cSaturday) \n",
    "elif strDay==\"Sunday\":\n",
    "    print (\"Total calls: \",dict1[strDay]) \n",
    "    print(\"Average calls for Sunday is: \", (dict1[strDay])/cSunday) \n",
    "else:\n",
    "    print(\"type error\")\n",
    "    \n",
    "\n",
    "\n"
   ]
  },
  {
   "cell_type": "code",
   "execution_count": null,
   "metadata": {},
   "outputs": [],
   "source": []
  }
 ],
 "metadata": {
  "kernelspec": {
   "display_name": "Python 3",
   "language": "python",
   "name": "python3"
  },
  "language_info": {
   "codemirror_mode": {
    "name": "ipython",
    "version": 3
   },
   "file_extension": ".py",
   "mimetype": "text/x-python",
   "name": "python",
   "nbconvert_exporter": "python",
   "pygments_lexer": "ipython3",
   "version": "3.7.4"
  }
 },
 "nbformat": 4,
 "nbformat_minor": 2
}
