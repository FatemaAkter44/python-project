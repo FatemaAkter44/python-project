{
 "cells": [
  {
   "cell_type": "code",
   "execution_count": null,
   "metadata": {},
   "outputs": [],
   "source": [
    " #Reads the call data (from the practice problem) and closes the file.\n",
    "    #Makes a dictionary, with the keys being days of the week, and the data being call total for each day.\n",
    "\n",
    "#2. Asks the user which day they are interested in. Print the total and the average for that day. \n",
    "#If they ask for a day that is not listed, give them an error messsage."
   ]
  },
  {
   "cell_type": "code",
   "execution_count": null,
   "metadata": {},
   "outputs": [],
   "source": [
    "import os # for file read\n",
    "readfile = open(\"Calls.txt\" , \"r\")\n",
    "print (readfile.read())\n",
    "\n",
    "readfile.close()\n"
   ]
  },
  {
   "cell_type": "code",
   "execution_count": null,
   "metadata": {},
   "outputs": [],
   "source": [
    "import os # for file read\n",
    "readfile = open(\"Calls.txt\" , \"r\")\n",
    "#print (readfile.read())\n",
    "\n",
    "list1 = [] \n",
    "for line in readfile:\n",
    "    #words = line.split(':')\n",
    "    words1 = line.rstrip(\" \\n\") # \\n will cut \n",
    "    words2 = words1.split(':')\n",
    "    #print (words)\n",
    "    list1.append(words2)\n",
    "    print (words2)\n",
    "    \n",
    "#singlelist = ([fatema for i in range (len(list1)) for fatema in list1[i]]) # covert 2d list o 1d list( string list)\n",
    "#print(singlelist) \n",
    "\n",
    "readfile.close()\n"
   ]
  },
  {
   "cell_type": "code",
   "execution_count": 2,
   "metadata": {},
   "outputs": [
    {
     "name": "stdout",
     "output_type": "stream",
     "text": [
      "{'Monday': 55, 'Tuesday': 54, 'Wednesday': 65, 'Thursday': 81, 'Friday': 49, 'Saturday': 38, 'Sunday': 14}\n",
      "4 4 4 4 4 3 3\n"
     ]
    }
   ],
   "source": [
    "import os # for file read\n",
    "readfile = open(\"Calls.txt\" , \"r\")\n",
    "#print (readfile.read())\n",
    "\n",
    "list1 = [] \n",
    "dictinary = {} # key and value\n",
    "for line in readfile:\n",
    "    #words = line.split(':')\n",
    "    words1 = line.rstrip(\" \\n\") # \\n will cut \n",
    "    words2 = words1.split(':')\n",
    "    #print (words)\n",
    "    list1.append(words2)\n",
    "    #print (words2)\n",
    "    if words2[0] in dictinary:\n",
    "        dictinary[words2[0]] += int(words2[1]) # list gose into dictineary, names are key and numbers are value\n",
    "    else:\n",
    "        dictinary[words2[0]] = int(words2[1])\n",
    "print(dictinary)\n",
    "    \n",
    "singlelist = ([_ for i in range (len(list1)) for _ in list1[i]]) # convert 2d list o 1d list( string list)\n",
    "#print(singlelist) \n",
    "countMonday = singlelist.count('Monday')\n",
    "countTuesday=singlelist.count('Tuesday')\n",
    "countWednesday=singlelist.count('Wednesday')\n",
    "countThursday=singlelist.count('Thursday')\n",
    "countFriday=singlelist.count('Friday')\n",
    "countSaturday=singlelist.count('Saturday')\n",
    "countSunday=singlelist.count('Sunday')\n",
    "\n",
    "#print(countMonday, countTuesday,countWednesday,countThursday,countFriday,countSaturday,countSunday)\n",
    "\n",
    "startday = input(\"Enter the day: \")\n",
    "\n",
    "readfile.close()"
   ]
  },
  {
   "cell_type": "code",
   "execution_count": 5,
   "metadata": {
    "scrolled": true
   },
   "outputs": [
    {
     "name": "stdout",
     "output_type": "stream",
     "text": [
      "{'Monday': 55, 'Tuesday': 54, 'Wednesday': 65, 'Thursday': 81, 'Friday': 49, 'Saturday': 38, 'Sunday': 14}\n",
      "Enter the day: monday\n",
      "type error\n"
     ]
    }
   ],
   "source": [
    "import os # for file read\n",
    "readfile = open(\"Calls.txt\" , \"r\")\n",
    "#print (readfile.read())\n",
    "\n",
    "list1 = [] \n",
    "dictinary = {} # key and value\n",
    "for line in readfile:\n",
    "    #words = line.split(':')\n",
    "    words1 = line.rstrip(\" \\n\") # \\n will cut \n",
    "    words2 = words1.split(':')\n",
    "    #print (words)\n",
    "    list1.append(words2)\n",
    "    #print (words2)\n",
    "    if words2[0] in dictinary:\n",
    "        dictinary[words2[0]] += int(words2[1]) # list gose into dictineary, names are key and numbers are value\n",
    "    else:\n",
    "        dictinary[words2[0]] = int(words2[1])\n",
    "print(dictinary)\n",
    "    \n",
    "singlelist = ([_ for i in range (len(list1)) for _ in list1[i]]) # convert 2d list o 1d list( string list)\n",
    "#print(singlelist) \n",
    "countMonday = singlelist.count('Monday')\n",
    "countTuesday=singlelist.count('Tuesday')\n",
    "countWednesday=singlelist.count('Wednesday')\n",
    "countThursday=singlelist.count('Thursday')\n",
    "countFriday=singlelist.count('Friday')\n",
    "countSaturday=singlelist.count('Saturday')\n",
    "countSunday=singlelist.count('Sunday')\n",
    "\n",
    "#print(countMonday, countTuesday,countWednesday,countThursday,countFriday,countSaturday,countSunday)\n",
    "\n",
    "startday = input(\"Enter the day: \").lower()\n",
    "\n",
    "if startday == \"Monday\":\n",
    "    totalcall = dictinary[startday]\n",
    "    print (\"Totall calls: \",totalcall)\n",
    "    print(\"Average calls for Monday is: \",totalcall/countMonday  )\n",
    "    \n",
    "elif startday == \"Monday\":\n",
    "    totalcall = dictinary[startday]\n",
    "    print (\"Totall calls: \",totalcall)\n",
    "    print(\"Average calls for Monday is: \",totalcall/countMonday  )\n",
    "    \n",
    "elif startday == \"Monday\":\n",
    "    totalcall = dictinary[startday]\n",
    "    print (\"Totall calls: \",totalcall)\n",
    "    print(\"Average calls for Monday is: \",totalcall/countMonday  )\n",
    "\n",
    "elif startday == \"Monday\":\n",
    "    totalcall = dictinary[startday]\n",
    "    print (\"Totall calls: \",totalcall)\n",
    "    print(\"Average calls for Monday is: \",totalcall/countMonday  )\n",
    "    \n",
    "elif startday == \"Monday\":\n",
    "    totalcall = dictinary[startday]\n",
    "    print (\"Totall calls: \",totalcall)\n",
    "    print(\"Average calls for Monday is: \",totalcall/countMonday  )\n",
    "    \n",
    "elif startday == \"Monday\":\n",
    "    totalcall = dictinary[startday]\n",
    "    print (\"Totall calls: \",totalcall)\n",
    "    print(\"Average calls for Monday is: \",totalcall/countMonday  )\n",
    "\n",
    "elif startday == \"Monday\":\n",
    "    totalcall = dictinary[startday]\n",
    "    print (\"Totall calls: \",totalcall)\n",
    "    print(\"Average calls for Monday is: \",totalcall/countMonday  )\n",
    "    \n",
    "else:\n",
    "    print(\"type error\")\n",
    "    \n",
    "    \n",
    "readfile.close()"
   ]
  },
  {
   "cell_type": "code",
   "execution_count": null,
   "metadata": {},
   "outputs": [],
   "source": []
  },
  {
   "cell_type": "code",
   "execution_count": null,
   "metadata": {},
   "outputs": [],
   "source": []
  }
 ],
 "metadata": {
  "kernelspec": {
   "display_name": "Python 3",
   "language": "python",
   "name": "python3"
  },
  "language_info": {
   "codemirror_mode": {
    "name": "ipython",
    "version": 3
   },
   "file_extension": ".py",
   "mimetype": "text/x-python",
   "name": "python",
   "nbconvert_exporter": "python",
   "pygments_lexer": "ipython3",
   "version": "3.7.4"
  }
 },
 "nbformat": 4,
 "nbformat_minor": 2
}
