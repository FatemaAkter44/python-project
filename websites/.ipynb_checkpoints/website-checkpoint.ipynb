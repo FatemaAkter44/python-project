{
 "cells": [
  {
   "cell_type": "code",
   "execution_count": null,
   "metadata": {},
   "outputs": [],
   "source": [
    "readfile = open(\"websites.txt\", \"r\")\n",
    "for line in readfile.readline():\n",
    "    print(line.strip())\n",
    "readfile.close()"
   ]
  },
  {
   "cell_type": "code",
   "execution_count": null,
   "metadata": {},
   "outputs": [],
   "source": [
    "readfile = open(\"websites.txt\", \"r\")\n",
    "for line in readfile.readlines():\n",
    "    print(line.strip())\n",
    "readfile.close()"
   ]
  },
  {
   "cell_type": "code",
   "execution_count": 5,
   "metadata": {},
   "outputs": [],
   "source": []
  },
  {
   "cell_type": "code",
   "execution_count": 8,
   "metadata": {},
   "outputs": [
    {
     "name": "stdout",
     "output_type": "stream",
     "text": [
      "True\n"
     ]
    }
   ],
   "source": [
    "readingWebsite = True\n",
    "readfile = open(\"websites.txt\", \"r\")\n",
    "for line in readfile.readlines():\n",
    "    if readingWebsite:\n",
    "        #add value to dictinary\n",
    "        #print(readingWebsite)\n",
    "        readingWebsite = False\n",
    "    else:\n",
    "        #add keys to dectionary\n",
    "        #print(readingWebsite)\n",
    "        readingWebsite = True\n",
    "print(readingWebsite)\n",
    "readfile.close()"
   ]
  },
  {
   "cell_type": "code",
   "execution_count": 9,
   "metadata": {},
   "outputs": [
    {
     "name": "stdout",
     "output_type": "stream",
     "text": [
      "False\n",
      "True\n",
      "False\n",
      "True\n",
      "False\n",
      "True\n",
      "False\n",
      "True\n",
      "False\n",
      "True\n",
      "False\n",
      "True\n",
      "False\n",
      "True\n",
      "False\n",
      "True\n",
      "False\n",
      "True\n",
      "False\n",
      "True\n",
      "False\n",
      "True\n",
      "False\n",
      "True\n",
      "False\n",
      "True\n"
     ]
    }
   ],
   "source": [
    "readingWebsite = True\n",
    "readfile = open(\"websites.txt\", \"r\")\n",
    "for line in readfile.readlines():\n",
    "    if readingWebsite:\n",
    "        #add value to dictinary\n",
    "        #print(readingWebsite)\n",
    "        readingWebsite = False\n",
    "    else:\n",
    "        #add keys to dectionary\n",
    "        #print(readingWebsite)\n",
    "        readingWebsite = True\n",
    "    print(readingWebsite)\n",
    "readfile.close()"
   ]
  },
  {
   "cell_type": "code",
   "execution_count": 11,
   "metadata": {},
   "outputs": [
    {
     "name": "stdout",
     "output_type": "stream",
     "text": [
      "True\n",
      "False\n",
      "True\n",
      "False\n",
      "True\n",
      "False\n",
      "True\n",
      "False\n",
      "True\n",
      "False\n",
      "True\n",
      "False\n",
      "True\n",
      "False\n",
      "True\n",
      "False\n",
      "True\n",
      "False\n",
      "True\n",
      "False\n",
      "True\n",
      "False\n",
      "True\n",
      "False\n",
      "True\n",
      "False\n"
     ]
    }
   ],
   "source": [
    "readingWebsite = True\n",
    "readfile = open(\"websites.txt\", \"r\")\n",
    "for line in readfile.readlines():\n",
    "    if readingWebsite:\n",
    "        #add value to dictinary\n",
    "        print(readingWebsite)\n",
    "        readingWebsite = False\n",
    "    else:\n",
    "        #add keys to dectionary\n",
    "        print(readingWebsite)\n",
    "        readingWebsite = True\n",
    "    #print(readingWebsite)\n",
    "readfile.close()"
   ]
  },
  {
   "cell_type": "code",
   "execution_count": 14,
   "metadata": {},
   "outputs": [
    {
     "name": "stdout",
     "output_type": "stream",
     "text": [
      "topic? ccccc\n",
      "not found\n"
     ]
    }
   ],
   "source": [
    "dictionaryWebsites = {} #making empty dictionary \n",
    "dictionaryWebsites [\"soccer\"] = \"espn.com\" # manuali input key and value\n",
    "\n",
    "#strResult = \"\"\n",
    "inText = input(\"topic? \")\n",
    "print(dictionaryWebsites.get(inText, \"not found\"))"
   ]
  },
  {
   "cell_type": "code",
   "execution_count": 7,
   "metadata": {},
   "outputs": [
    {
     "name": "stdout",
     "output_type": "stream",
     "text": [
      "{'soccer': 'goal.commls.comespn.comfoxsports.com', 'food': 'foodnetwork.comrecipes.com', 'entertainment': 'foodnetwork.comhbo.comfox.comcbs.comnetflix.com', 'recipes': 'foodnetwork.comrecipes.com', 'sports': 'espn.comfoxsports.comfox.comcbs.com', 'basketball': 'espn.comfoxsports.com', 'football': 'espn.comfoxsports.com', 'news': 'cnn.comfoxnews.comcbsnews.com', 'politics': 'cnn.comfoxnews.comcbsnews.com', 'movies': 'hbo.comnetflix.com'}\n",
      "\n",
      "Topic? food\n",
      "foodnetwork.comrecipes.com\n"
     ]
    }
   ],
   "source": [
    "dictionaryWebsites = {}\n",
    "strPrev = \"\"\n",
    "readingWebsite = True\n",
    "readfile = open(\"websites.txt\", \"r\")\n",
    "for line in readfile.readlines():\n",
    "    if readingWebsite:\n",
    "        #add value to dictinary\n",
    "        #print(readingWebsite)\n",
    "        strPrev = line.strip()\n",
    "        readingWebsite = False\n",
    "    else:\n",
    "        #add keys to dectionary\n",
    "        #print(readingWebsite)\n",
    "        \n",
    "        arraykeys = line.strip().split(\", \")\n",
    "        for stringkey in arraykeys:\n",
    "            if dictionaryWebsites.get(stringkey,False):\n",
    "                dictionaryWebsites[stringkey] += \"\" + strPrev\n",
    "            else:\n",
    "                dictionaryWebsites[stringkey] = strPrev\n",
    "            \n",
    "        readingWebsite = True\n",
    "    #print(readingWebsite)\n",
    "readfile.close()\n",
    "print(dictionaryWebsites)\n",
    "stringResult = \"\"\n",
    "inText = input(\"\\nTopic? \")\n",
    "print(dictionaryWebsites.get(inText, \"Not Found\"))"
   ]
  },
  {
   "cell_type": "code",
   "execution_count": null,
   "metadata": {},
   "outputs": [],
   "source": []
  }
 ],
 "metadata": {
  "kernelspec": {
   "display_name": "Python 3",
   "language": "python",
   "name": "python3"
  },
  "language_info": {
   "codemirror_mode": {
    "name": "ipython",
    "version": 3
   },
   "file_extension": ".py",
   "mimetype": "text/x-python",
   "name": "python",
   "nbconvert_exporter": "python",
   "pygments_lexer": "ipython3",
   "version": "3.7.4"
  }
 },
 "nbformat": 4,
 "nbformat_minor": 2
}
